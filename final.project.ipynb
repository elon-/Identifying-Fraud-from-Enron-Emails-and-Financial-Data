{
 "cells": [
  {
   "cell_type": "code",
   "execution_count": 1,
   "metadata": {
    "collapsed": true
   },
   "outputs": [],
   "source": [
    "import os\n",
    "os.chdir(r\"C:\\Users\\karthik\\Desktop\\udacity\\p5\\ud120-projects\\final_project\")"
   ]
  },
  {
   "cell_type": "code",
   "execution_count": 2,
   "metadata": {
    "collapsed": false
   },
   "outputs": [],
   "source": [
    "import sys\n",
    "import pickle\n",
    "sys.path.append(\"../tools/\")\n",
    "import matplotlib.pyplot as plt\n",
    "from feature_format import featureFormat, targetFeatureSplit\n",
    "from tester import dump_classifier_and_data\n",
    "from  numpy  import *\n",
    "from tester import test_classifier\n",
    "from sklearn.metrics import precision_score\n",
    "from sklearn.metrics import recall_score\n",
    "from sklearn.metrics import precision_score\n",
    "from sklearn.metrics import recall_score\n",
    "from sklearn.preprocessing import MinMaxScaler\n",
    "from sklearn.preprocessing import StandardScaler\n",
    "from sklearn.cross_validation import train_test_split\n",
    "%matplotlib inline"
   ]
  },
  {
   "cell_type": "code",
   "execution_count": 3,
   "metadata": {
    "collapsed": false
   },
   "outputs": [],
   "source": [
    "### Load the dictionary containing the dataset\n",
    "with open(\"final_project_dataset.pkl\", \"r\") as data_file:\n",
    "    data_dict = pickle.load(data_file)\n",
    "### Store to my_dataset for easy export below.\n",
    "my_dataset = data_dict"
   ]
  },
  {
   "cell_type": "markdown",
   "metadata": {},
   "source": [
    "## Data Exploration "
   ]
  },
  {
   "cell_type": "code",
   "execution_count": 4,
   "metadata": {
    "collapsed": false
   },
   "outputs": [
    {
     "name": "stdout",
     "output_type": "stream",
     "text": [
      "Total number of data points= 146\n",
      "\n",
      "Total number of feature for each person= 21 \n",
      "\n",
      "Total number of poi in the data_set=18\n",
      "\n",
      "The Person of Interest= ['HANNON KEVIN P', 'COLWELL WESLEY', 'RIEKER PAULA H', 'KOPPER MICHAEL J', 'SHELBY REX', 'DELAINEY DAVID W', 'LAY KENNETH L', 'BOWEN JR RAYMOND M', 'BELDEN TIMOTHY N', 'FASTOW ANDREW S', 'CALGER CHRISTOPHER F', 'RICE KENNETH D', 'SKILLING JEFFREY K', 'YEAGER F SCOTT', 'HIRKO JOSEPH', 'KOENIG MARK E', 'CAUSEY RICHARD A', 'GLISAN JR BEN F']\n",
      "\n",
      "Different featues for each person=['salary', 'to_messages', 'deferral_payments', 'total_payments', 'exercised_stock_options', 'bonus', 'restricted_stock', 'shared_receipt_with_poi', 'restricted_stock_deferred', 'total_stock_value', 'expenses', 'loan_advances', 'from_messages', 'other', 'from_this_person_to_poi', 'poi', 'director_fees', 'deferred_income', 'long_term_incentive', 'email_address', 'from_poi_to_this_person']\n",
      "\n",
      " All the featues in the data set do not have value as there are some NaN for some instances which are need to be droped.\n"
     ]
    }
   ],
   "source": [
    "print \"Total number of data points= {}\\n\".format(len (my_dataset.keys()))\n",
    "print \"Total number of feature for each person= {} \\n\" .format(len(data_dict['KOENIG MARK E'].keys()))\n",
    "total_poi=[key for key,item in data_dict.items() if item[\"poi\"]==True]\n",
    "print \"Total number of poi in the data_set={}\\n\".format(len(total_poi))\n",
    "print \"The Person of Interest= {}\\n\".format(total_poi)\n",
    "print \"Different featues for each person={}\\n\" .format(data_dict['KOENIG MARK E'].keys())\n",
    "print \" All the featues in the data set do not have value as there are some NaN for some instances which are need to be droped.\""
   ]
  },
  {
   "cell_type": "markdown",
   "metadata": {
    "collapsed": true
   },
   "source": [
    "### Task 1: Select what features you'll use."
   ]
  },
  {
   "cell_type": "raw",
   "metadata": {},
   "source": [
    "features_list is a list of strings, each of which is a feature name.\n",
    "The first feature must be \"poi\"."
   ]
  },
  {
   "cell_type": "code",
   "execution_count": 5,
   "metadata": {
    "collapsed": false
   },
   "outputs": [],
   "source": [
    "features_list = ['poi','salary',\"bonus\"] # You will need to use more features"
   ]
  },
  {
   "cell_type": "markdown",
   "metadata": {},
   "source": [
    "## Outlier Investigation "
   ]
  },
  {
   "cell_type": "code",
   "execution_count": 6,
   "metadata": {
    "collapsed": false
   },
   "outputs": [
    {
     "name": "stdout",
     "output_type": "stream",
     "text": [
      "Person with salary values are missing= ['CORDES WILLIAM R', 'MEYER ROCKFORD G', 'HORTON STANLEY C', 'GIBBS DANA R', 'LOWRY CHARLES P', 'WALTERS GARETH W', 'CHAN RONNIE', 'BELFER ROBERT', 'WODRASKA JOHN', 'URQUHART JOHN A', 'WHALEY DAVID A', 'HAUG DAVID L', 'MENDELSOHN JOHN', 'CLINE KENNETH W', 'LEWIS RICHARD', 'HAYES ROBERT E', 'MCCARTY DANNY J', 'WAKEHAM JOHN', 'POWERS WILLIAM', 'DUNCAN JOHN H', 'LEMAISTRE CHARLES', 'PIRO JIM', 'WROBEL BRUCE', 'MEYER JEROME J', 'MCDONALD REBECCA', 'SCRIMSHAW MATTHEW', 'GATHMANN WILLIAM D', 'GILLIS JOHN', 'MORAN MICHAEL P', 'FOY JOE', 'LOCKHART EUGENE E', 'PEREIRA PAULO V. FERRAZ', 'BLAKE JR. NORMAN P', 'SHERRICK JEFFREY B', 'PRENTICE JAMES', 'THE TRAVEL AGENCY IN THE PARK', 'NOLES JAMES L', 'FOWLER PEGGY', 'CHRISTODOULOU DIOMEDES', 'JAEDICKE ROBERT', 'WINOKUR JR. HERBERT S', 'BROWN MICHAEL', 'BADUM JAMES P', 'HUGHES JAMES A', 'BHATNAGAR SANJAY', 'YEAP SOON', 'HIRKO JOSEPH', 'HAYSLETT RODERICK J', 'FUGH JOHN L', 'SAVAGE FRANK', 'GRAMM WENDY L']\n",
      "\n",
      "The outlier name= ['TOTAL']\n"
     ]
    },
    {
     "data": {
      "image/png": "[encoded data removed]",
      "text/plain": [
       "<matplotlib.figure.Figure at 0x843ee48>"
      ]
     },
     "metadata": {},
     "output_type": "display_data"
    }
   ],
   "source": [
    "data = featureFormat(my_dataset, features_list)\n",
    "for point in data:\n",
    "    salary = point[1]  \n",
    "    bonus = point[2]\n",
    "    plt.scatter( salary, bonus )\n",
    "plt.xlabel(\"Salary\")\n",
    "plt.ylabel(\"Bonus\")\n",
    "outlier_name=[key for key,item in data_dict.items() if item[\"salary\"]>4000000 and item[\"salary\"]!=\"NaN\"]\n",
    "missing_value=[key for key,item in data_dict.items() if item[\"salary\"]==\"NaN\"]\n",
    "print \"Person with salary values are missing= {}\\n\".format(missing_value)\n",
    "print \"The outlier name= {}\".format(outlier_name)\n"
   ]
  },
  {
   "cell_type": "markdown",
   "metadata": {},
   "source": [
    "### Task 2: Remove outliers"
   ]
  },
  {
   "cell_type": "raw",
   "metadata": {},
   "source": [
    "The outlier \"Total\" is excel error as it gives the sum of all the persons salary which is not a usefull information to be introduce into the model.\n",
    "There are number of features with the missing value \"NaN\" but removing these person for missing value might make my model to train with less data points and make the model high bias."
   ]
  },
  {
   "cell_type": "code",
   "execution_count": 7,
   "metadata": {
    "collapsed": false
   },
   "outputs": [],
   "source": [
    "#removing outlier\n",
    "my_dataset.pop(\"TOTAL\",None)\n",
    "features_list = ['poi','salary',\"bonus\"]\n",
    "\n",
    "## if you want to remove the NaN\n",
    "#for name, features in my_dataset.items():\n",
    "#    for i in range(1,len(features_list)):\n",
    "#        if features[features_list[i]]==\"NaN\":\n",
    "#            my_dataset.pop(name,None)\n"
   ]
  },
  {
   "cell_type": "code",
   "execution_count": 8,
   "metadata": {
    "collapsed": false,
    "scrolled": true
   },
   "outputs": [
    {
     "name": "stdout",
     "output_type": "stream",
     "text": [
      "number of poi =  18\n"
     ]
    },
    {
     "data": {
      "image/png": "[encoded data removed]",
      "text/plain": [
       "<matplotlib.figure.Figure at 0x89f1908>"
      ]
     },
     "metadata": {},
     "output_type": "display_data"
    }
   ],
   "source": [
    "\n",
    "### Extract features and labels from dataset for local testing\n",
    "data = featureFormat(my_dataset, features_list)\n",
    "for point in data:\n",
    "    salary = point[1]  \n",
    "    bonus = point[2]\n",
    "    plt.scatter( salary, bonus)\n",
    "    if point[0]==1:\n",
    "        plt.scatter(salary, bonus, c=\"r\" )\n",
    "        \n",
    "plt.xlabel(\"salary\")\n",
    "plt.ylabel(\"bonus\")\n",
    "plt.title(\"data point after removing outlie\")\n",
    "a=[k for k,i in my_dataset.items() if i[\"poi\"]==True]\n",
    "print \"number of poi = \",len(a)"
   ]
  },
  {
   "cell_type": "markdown",
   "metadata": {},
   "source": [
    "# create new feature"
   ]
  },
  {
   "cell_type": "code",
   "execution_count": 9,
   "metadata": {
    "collapsed": false
   },
   "outputs": [],
   "source": [
    "my_dataset = data_dict\n",
    "def fraction (total_message,message_with_poi):\n",
    "    if total_message!=\"NaN\"and message_with_poi!=\"NaN\":\n",
    "            fraction=(float(message_with_poi)/float(total_message))\n",
    "    else:\n",
    "         fraction=0.        \n",
    "    return fraction \n",
    "new_dataset={}\n",
    "for name in my_dataset:\n",
    "    data_point=my_dataset[name]\n",
    "    #print name\n",
    "    data_point[\"fraction_from_poi\"]=fraction(data_point[\"to_messages\"],data_point['from_poi_to_this_person'])\n",
    "    data_point[\"fraction_to_poi\"]=fraction(data_point[\"from_messages\"],data_point['from_this_person_to_poi'])\n",
    "    #print data_point\n",
    "    new_dataset[name]=data_point\n"
   ]
  },
  {
   "cell_type": "code",
   "execution_count": 10,
   "metadata": {
    "collapsed": false
   },
   "outputs": [
    {
     "data": {
      "image/png": "[encoded data removed]",
      "text/plain": [
       "<matplotlib.figure.Figure at 0x843ebe0>"
      ]
     },
     "metadata": {},
     "output_type": "display_data"
    }
   ],
   "source": [
    "features_list = ['poi',\"fraction_from_poi\",\"fraction_to_poi\"]\n",
    "data = featureFormat(new_dataset, features_list)\n",
    "for point in data:\n",
    "    fraction_from_poi=point[1]\n",
    "    fraction_to_poi=point[2]\n",
    "    plt.scatter(fraction_from_poi,fraction_to_poi)\n",
    "    if point[0]==1:\n",
    "        plt.scatter(fraction_from_poi,fraction_to_poi,c=\"r\",s=50)\n",
    "plt.xlabel(\"fraction of mail a person sent to poi\")\n",
    "plt.ylabel(\"fraction of mail a person gets from poi\")\n",
    "plt.show()"
   ]
  },
  {
   "cell_type": "markdown",
   "metadata": {},
   "source": [
    "### Intelligently select features"
   ]
  },
  {
   "cell_type": "code",
   "execution_count": 11,
   "metadata": {
    "collapsed": false
   },
   "outputs": [],
   "source": [
    "my_dataset=new_dataset\n",
    "#print my_dataset['GLISAN JR BEN F']\n",
    "features_list = ['poi','to_messages', 'deferral_payments', 'expenses', 'deferred_income', 'long_term_incentive', \n",
    "                'fraction_from_poi','restricted_stock_deferred','shared_receipt_with_poi', 'loan_advances', 'from_messages',\n",
    "                  'other', 'director_fees', 'bonus','total_stock_value', 'from_poi_to_this_person','from_this_person_to_poi',\n",
    "                 'restricted_stock', 'salary','fraction_to_poi', 'exercised_stock_options']\n",
    "#features_list = [\"poi\",'salary','bonus']\n",
    "\n",
    "data = featureFormat(my_dataset, features_list)\n",
    "labels,features=targetFeatureSplit(data)\n",
    "from sklearn.cross_validation import train_test_split\n",
    "features_train, features_test, labels_train, labels_test =train_test_split(features, labels, test_size=0.4, random_state=42)\n"
   ]
  },
  {
   "cell_type": "code",
   "execution_count": 12,
   "metadata": {
    "collapsed": false
   },
   "outputs": [
    {
     "name": "stdout",
     "output_type": "stream",
     "text": [
      "21\n",
      "86\n",
      "0.775862068966\n",
      "the feature importans\n",
      "\n",
      "1.  to_messages= 0.0\n",
      "2.  deferral_payments= 0.0\n",
      "3.  expenses= 0.236583011583\n",
      "4.  deferred_income= 0.0\n",
      "5.  long_term_incentive= 0.0\n",
      "6.  fraction_from_poi= 0.0\n",
      "7.  restricted_stock_deferred= 0.0830115830116\n",
      "8.  shared_receipt_with_poi= 0.0713144963145\n",
      "9.  loan_advances= 0.0\n",
      "10.  from_messages= 0.109714609715\n",
      "11.  other= 0.0\n",
      "12.  director_fees= 0.0\n",
      "13.  bonus= 0.232361308677\n",
      "14.  total_stock_value= 0.0\n",
      "15.  from_poi_to_this_person= 0.0\n",
      "16.  from_this_person_to_poi= 0.0\n",
      "17.  restricted_stock= 0.0\n",
      "18.  salary= 0.0\n",
      "19.  fraction_to_poi= 0.0982562604184\n",
      "20.  exercised_stock_options= 0.168758730281\n"
     ]
    }
   ],
   "source": [
    "from sklearn.tree import DecisionTreeClassifier\n",
    "clf = DecisionTreeClassifier()\n",
    "print len (features_list)\n",
    "print len (labels_train)\n",
    "clf=clf.fit(features_train,labels_train)\n",
    "score=clf.score(features_test,labels_test)\n",
    "print score\n",
    "print \"the feature importans\\n\"\n",
    "\n",
    "importants=clf.feature_importances_\n",
    "for i in  range (len(importants)):\n",
    "    print \"{}.  {}= {}\".format (i+1,features_list[i+1],importants[i])"
   ]
  },
  {
   "cell_type": "markdown",
   "metadata": {},
   "source": [
    "# Decision-Tree\n",
    "### please run this part for generating .plk and run tester.py(finial model)"
   ]
  },
  {
   "cell_type": "code",
   "execution_count": 13,
   "metadata": {
    "collapsed": false
   },
   "outputs": [
    {
     "name": "stdout",
     "output_type": "stream",
     "text": [
      "score= 0.892857142857\n",
      "precision= 0.571428571429\n",
      "recall_score= 0.571428571429\n",
      "DecisionTreeClassifier(class_weight=None, criterion='gini', max_depth=None,\n",
      "            max_features='log2', max_leaf_nodes=None, min_samples_leaf=1,\n",
      "            min_samples_split=1, min_weight_fraction_leaf=0.0,\n",
      "            presort=False, random_state=None, splitter='best')\n",
      "\tAccuracy: 0.84114\tPrecision: 0.44062\tRecall: 0.41550\tF1: 0.42769\tF2: 0.42029\n",
      "\tTotal predictions: 14000\tTrue positives:  831\tFalse positives: 1055\tFalse negatives: 1169\tTrue negatives: 10945\n",
      "\n"
     ]
    },
    {
     "name": "stderr",
     "output_type": "stream",
     "text": [
      "C:\\Users\\karthik\\Anaconda2\\lib\\site-packages\\sklearn\\metrics\\classification.py:1074: UndefinedMetricWarning: Precision is ill-defined and being set to 0.0 due to no predicted samples.\n",
      "  'precision', 'predicted', average, warn_for)\n"
     ]
    }
   ],
   "source": [
    "my_dataset=new_dataset\n",
    "## Importing classifirs\n",
    "\n",
    "from sklearn.tree import DecisionTreeClassifier\n",
    "from sklearn.grid_search import GridSearchCV \n",
    "\n",
    "## features selection \n",
    "features_list=[\"poi\",\"other\", \"expenses\",\"fraction_to_poi\",'shared_receipt_with_poi',\"exercised_stock_options\"]\n",
    "data = featureFormat(my_dataset, features_list)\n",
    "labels,features=targetFeatureSplit(data)\n",
    "features_train, features_test, labels_train, labels_test =train_test_split(features, labels, test_size=0.4, random_state=42)\n",
    "\n",
    "## applying classifier\n",
    "parameters={\"criterion\":(\"gini\",\"entropy\"),\"min_samples_split\":[1,2,3,4],\"max_features\":(None,\"auto\",\"log2\")}\n",
    "dec_tree = DecisionTreeClassifier()\n",
    "clf=GridSearchCV(dec_tree,parameters,cv=6,scoring=\"precision\")\n",
    "clf.fit(features_train,labels_train)\n",
    "clf = clf.best_estimator_\n",
    "score=clf.score(features_test,labels_test)\n",
    "pre=clf.predict(features_test)\n",
    "print \"score= {}\".format (score)\n",
    "print \"precision= {}\".format (precision_score(labels_test,pre))\n",
    "print \"recall_score= {}\".format(recall_score(labels_test,pre))\n",
    "\n",
    "dump_classifier_and_data(clf, my_dataset, features_list)\n",
    "test_classifier(clf, my_dataset, features_list)"
   ]
  },
  {
   "cell_type": "markdown",
   "metadata": {},
   "source": [
    "# PCA (illustration for overfitting )"
   ]
  },
  {
   "cell_type": "code",
   "execution_count": 14,
   "metadata": {
    "collapsed": false
   },
   "outputs": [
    {
     "name": "stdout",
     "output_type": "stream",
     "text": [
      "Total number of data points= 145\n",
      "\n",
      "Total number of feature for each person= 23 \n",
      "\n",
      "Total number of poi in the data_set=18\n",
      "\n",
      "The Person of Interest= ['HANNON KEVIN P', 'COLWELL WESLEY', 'RIEKER PAULA H', 'KOPPER MICHAEL J', 'SHELBY REX', 'DELAINEY DAVID W', 'LAY KENNETH L', 'BOWEN JR RAYMOND M', 'BELDEN TIMOTHY N', 'FASTOW ANDREW S', 'CALGER CHRISTOPHER F', 'RICE KENNETH D', 'SKILLING JEFFREY K', 'YEAGER F SCOTT', 'HIRKO JOSEPH', 'KOENIG MARK E', 'CAUSEY RICHARD A', 'GLISAN JR BEN F']\n",
      "\n",
      "Different featues for each person=['to_messages', 'deferral_payments', 'expenses', 'poi', 'deferred_income', 'email_address', 'long_term_incentive', 'fraction_from_poi', 'restricted_stock_deferred', 'shared_receipt_with_poi', 'loan_advances', 'from_messages', 'other', 'director_fees', 'bonus', 'total_stock_value', 'from_poi_to_this_person', 'from_this_person_to_poi', 'restricted_stock', 'salary', 'total_payments', 'fraction_to_poi', 'exercised_stock_options']\n",
      "\n",
      " All the featues in the data set do not have value as there are some NaN for some instances which are need to be droped.\n"
     ]
    }
   ],
   "source": [
    "print \"Total number of data points= {}\\n\".format(len (my_dataset.keys()))\n",
    "print \"Total number of feature for each person= {} \\n\" .format(len(data_dict['KOENIG MARK E'].keys()))\n",
    "total_poi=[key for key,item in data_dict.items() if item[\"poi\"]==True]\n",
    "print \"Total number of poi in the data_set={}\\n\".format(len(total_poi))\n",
    "print \"The Person of Interest= {}\\n\".format(total_poi)\n",
    "print \"Different featues for each person={}\\n\" .format(data_dict['KOENIG MARK E'].keys())\n",
    "print \" All the featues in the data set do not have value as there are some NaN for some instances which are need to be droped.\""
   ]
  },
  {
   "cell_type": "code",
   "execution_count": 15,
   "metadata": {
    "collapsed": false
   },
   "outputs": [
    {
     "name": "stdout",
     "output_type": "stream",
     "text": [
      "precision= 0.6\n",
      "recall_score= 0.5\n",
      "best_parameter SVC(C=1000.0, cache_size=200, class_weight=None, coef0=0.0,\n",
      "  decision_function_shape=None, degree=3, gamma=0.0001, kernel='rbf',\n",
      "  max_iter=-1, probability=False, random_state=None, shrinking=True,\n",
      "  tol=0.001, verbose=False)\n"
     ]
    }
   ],
   "source": [
    "my_dataset=new_dataset  \n",
    "## feature selection\n",
    "features_list = ['poi','to_messages', 'deferral_payments', 'expenses', 'deferred_income', 'long_term_incentive', \n",
    "                'fraction_from_poi','restricted_stock_deferred','shared_receipt_with_poi', 'loan_advances', 'from_messages',\n",
    "                  'other', 'director_fees', 'bonus','total_stock_value', 'from_poi_to_this_person','from_this_person_to_poi',\n",
    "                 'restricted_stock', 'salary','fraction_to_poi', 'exercised_stock_options']\n",
    "data = featureFormat(my_dataset, features_list)\n",
    "labels,features=targetFeatureSplit(data)\n",
    "features_train, features_test, labels_train, labels_test =train_test_split(features, labels, test_size=0.4, random_state=42)\n",
    "\n",
    "## PCA\n",
    "from sklearn.decomposition import PCA\n",
    "#print labels_train.shape\n",
    "n_components=\"mle\"\n",
    "std_scale =StandardScaler().fit(features_train)\n",
    "features_train_norm=std_scale.transform(features_train)\n",
    "features_test_norm=std_scale.transform(features_test)\n",
    "pca=PCA(n_components)\n",
    "pca.fit(features_train)\n",
    "features_train_pca=pca.transform(features_train_norm)\n",
    "features_test_pca=pca.transform(features_test_norm)\n",
    "\n",
    "parameters= {\n",
    "         'C': [1e3, 5e3, 1e4, 5e4, 1e5],\n",
    "          'gamma': [0.0001, 0.0005, 0.001, 0.005, 0.01, 0.1],\n",
    "          }\n",
    "\n",
    "from sklearn.svm import SVC \n",
    "scv=SVC()\n",
    "clf=GridSearchCV(scv,parameters,cv=5,scoring=\"precision\")\n",
    "\n",
    "clf.fit(features_train_pca,labels_train)\n",
    "y_pred = clf.predict(features_test_pca)\n",
    "\n",
    "#l=[\"non-poi\",\"poi\"]\n",
    "#print \"classification_report\\n\"\n",
    "#print classification_report(labels_test, y_pred,target_names=l)\n",
    "#print \"confusion_matrix\\n\"\n",
    "#print confusion_matrix(labels_test, y_pred)\n",
    "print \"precision= {}\".format (precision_score(labels_test,y_pred))\n",
    "print \"recall_score= {}\".format(recall_score(labels_test,y_pred))\n",
    "print \"best_parameter\", clf.best_estimator_"
   ]
  },
  {
   "cell_type": "code",
   "execution_count": 16,
   "metadata": {
    "collapsed": false
   },
   "outputs": [
    {
     "name": "stdout",
     "output_type": "stream",
     "text": [
      "0\n",
      "1\n"
     ]
    },
    {
     "data": {
      "image/png": "[encoded data removed]",
      "text/plain": [
       "<matplotlib.figure.Figure at 0x92efa58>"
      ]
     },
     "metadata": {},
     "output_type": "display_data"
    }
   ],
   "source": [
    "from matplotlib import pyplot as plt\n",
    "for l,c,m in zip(range(0,2),(\"blue\",\"red\"),(\"o\",\"^\")):\n",
    "    print l\n",
    "    plt.scatter(features_train_pca[array(labels_train)==l,0],features_train_pca[array(labels_train)==l,1],\n",
    "                color=c,marker=m,)\n",
    "\n",
    "plt.title('1st PC Vs 2st PC')\n",
    "plt.xlabel('1st principal component')\n",
    "plt.ylabel('2st principal component')\n",
    "plt.show()"
   ]
  },
  {
   "cell_type": "raw",
   "metadata": {},
   "source": [
    "The graph for 1st PC Vs. 2nd PC clearly shows that PCA is not doing a good job in fitting, as more POI and non-POI are together thus high precision and recall from the SVC might be due to overfitting. "
   ]
  },
  {
   "cell_type": "markdown",
   "metadata": {},
   "source": [
    "# RANDOM FOREST"
   ]
  },
  {
   "cell_type": "code",
   "execution_count": 17,
   "metadata": {
    "collapsed": false
   },
   "outputs": [
    {
     "name": "stdout",
     "output_type": "stream",
     "text": [
      "RandomForestClassifier(bootstrap=True, class_weight=None, criterion='gini',\n",
      "            max_depth=None, max_features='auto', max_leaf_nodes=None,\n",
      "            min_samples_leaf=1, min_samples_split=2,\n",
      "            min_weight_fraction_leaf=0.0, n_estimators=10, n_jobs=1,\n",
      "            oob_score=False, random_state=None, verbose=0,\n",
      "            warm_start=False)\n",
      "\tAccuracy: 0.85421\tPrecision: 0.47923\tRecall: 0.23650\tF1: 0.31671\tF2: 0.26316\n",
      "\tTotal predictions: 14000\tTrue positives:  473\tFalse positives:  514\tFalse negatives: 1527\tTrue negatives: 11486\n",
      "\n"
     ]
    }
   ],
   "source": [
    "my_dataset=new_dataset\n",
    "data = featureFormat(my_dataset, features_list)\n",
    "features_list=[\"poi\", \"expenses\",\"fraction_to_poi\",'shared_receipt_with_poi',\"exercised_stock_options\"]\n",
    "labels,features=targetFeatureSplit(data)\n",
    "from sklearn.ensemble import RandomForestClassifier\n",
    "from sklearn.cross_validation import cross_val_score\n",
    "std_scale =StandardScaler().fit(features)\n",
    "features_train_norm=std_scale.transform(features)\n",
    "clf1=RandomForestClassifier()\n",
    "clf1.fit(features,labels)\n",
    "#score= cross_val_score(clf1,features_train_norm,labels,cv=3,scoring=\"precision\")\n",
    "test_classifier(clf1 , my_dataset, features_list)"
   ]
  },
  {
   "cell_type": "raw",
   "metadata": {},
   "source": [
    "I tired using random forest but the recall is low as .24 so i am trying voting classifier which take both random forest and \n",
    "decision tree to vote and predict."
   ]
  },
  {
   "cell_type": "markdown",
   "metadata": {},
   "source": [
    "# Voting classifier"
   ]
  },
  {
   "cell_type": "code",
   "execution_count": 18,
   "metadata": {
    "collapsed": false,
    "scrolled": true
   },
   "outputs": [
    {
     "name": "stdout",
     "output_type": "stream",
     "text": [
      "VotingClassifier(estimators=[('rf', RandomForestClassifier(bootstrap=True, class_weight=None, criterion='gini',\n",
      "            max_depth=None, max_features='auto', max_leaf_nodes=None,\n",
      "            min_samples_leaf=1, min_samples_split=2,\n",
      "            min_weight_fraction_leaf=0.0, n_estimators=10, n_jobs=1,\n",
      "            o...plit=2, min_weight_fraction_leaf=0.0,\n",
      "            presort=False, random_state=40, splitter='best'))],\n",
      "         voting='soft', weights=None)\n",
      "\tAccuracy: 0.83436\tPrecision: 0.40601\tRecall: 0.34450\tF1: 0.37273\tF2: 0.35526\n",
      "\tTotal predictions: 14000\tTrue positives:  689\tFalse positives: 1008\tFalse negatives: 1311\tTrue negatives: 10992\n",
      "\n"
     ]
    }
   ],
   "source": [
    "#from sklearn.naive_bayes import GaussianNB\n",
    "#from sklearn.linear_model import LogisticRegression\n",
    "from sklearn.ensemble import RandomForestClassifier\n",
    "from sklearn.metrics import precision_score\n",
    "from sklearn.metrics import recall_score\n",
    "from sklearn.cross_validation import train_test_split\n",
    "from sklearn import preprocessing\n",
    "from sklearn.ensemble import VotingClassifier\n",
    "from sklearn.cross_validation import cross_val_score\n",
    "from mlxtend.classifier import EnsembleVoteClassifier\n",
    "from sklearn.tree import DecisionTreeClassifier\n",
    "my_dataset=new_dataset  \n",
    "features_list=[\"poi\",\"expenses\",\"fraction_to_poi\",'shared_receipt_with_poi',\"exercised_stock_options\"]\n",
    "data = featureFormat(my_dataset, features_list)\n",
    "labels,features=targetFeatureSplit(data)\n",
    "#features_train, features_test, labels_train, labels_test =train_test_split(features, labels, test_size=0.4, random_state=42)\n",
    "std_scale = preprocessing.StandardScaler().fit(features)\n",
    "features_train_norm=std_scale.transform(features)\n",
    "clf3=RandomForestClassifier(random_state=40)\n",
    "clf4=DecisionTreeClassifier(random_state=40)\n",
    "eclf1=VotingClassifier(estimators=[(\"rf\",clf3),(\"dt\",clf4)],\n",
    "                      voting=\"soft\")\n",
    "eclf1=eclf1.fit(features_train_norm,labels)\n",
    "test_classifier(eclf1 , my_dataset, features_list)"
   ]
  },
  {
   "cell_type": "code",
   "execution_count": null,
   "metadata": {
    "collapsed": true
   },
   "outputs": [],
   "source": []
  },
  {
   "cell_type": "code",
   "execution_count": null,
   "metadata": {
    "collapsed": true
   },
   "outputs": [],
   "source": []
  },
  {
   "cell_type": "code",
   "execution_count": null,
   "metadata": {
    "collapsed": true
   },
   "outputs": [],
   "source": []
  }
 ],
 "metadata": {
  "kernelspec": {
   "display_name": "Python 2",
   "language": "python",
   "name": "python2"
  },
  "language_info": {
   "codemirror_mode": {
    "name": "ipython",
    "version": 2
   },
   "file_extension": ".py",
   "mimetype": "text/x-python",
   "name": "python",
   "nbconvert_exporter": "python",
   "pygments_lexer": "ipython2",
   "version": "2.7.11"
  }
 },
 "nbformat": 4,
 "nbformat_minor": 0
}
